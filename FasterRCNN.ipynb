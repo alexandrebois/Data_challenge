{
 "cells": [
  {
   "cell_type": "markdown",
   "metadata": {},
   "source": [
    "# Méthode avec Faster R-CNN\n"
   ]
  },
  {
   "cell_type": "code",
   "execution_count": null,
   "metadata": {},
   "outputs": [],
   "source": [
    "import tensorflow as tf\n",
    "import cv2\n",
    "import numpy as np\n",
    "import tensorflow_hub as hub\n",
    "import matplotlib.pyplot as plt\n",
    "# modèle préentrainé sur COCO 2017\n",
    "model_url = \"https://tfhub.dev/tensorflow/faster_rcnn/inception_resnet_v2_640x640/1\"\n",
    "model = hub.load(model_url)\n"
   ]
  },
  {
   "cell_type": "code",
   "execution_count": null,
   "metadata": {},
   "outputs": [],
   "source": [
    "# Charger et prétraiter votre image\n",
    "image_test = 'datasets_train/train/3211264.jpg' \n",
    "image = cv2.imread(image_test)\n",
    "image = cv2.cvtColor(image, cv2.COLOR_BGR2RGB)\n",
    "image = tf.convert_to_tensor(image)\n",
    "\n",
    "# Effectuer la détection d'objets\n",
    "input_tensor = image[tf.newaxis, ...]\n",
    "detections = model(input_tensor)\n",
    "\n",
    "# Récupérer les informations de détection (bounding boxes, classes, scores)\n",
    "boxes = detections['detection_boxes'][0].numpy()\n",
    "classes = detections['detection_classes'][0].numpy().astype(int)\n",
    "scores = detections['detection_scores'][0].numpy()\n",
    "\n",
    "# On fait le paris que une seule voiture -> on prend l'objet le mieux détecté\n",
    "# Sinon on aurait pu mettre un seuil de détection\n",
    "score = scores[0] \n",
    "box = boxes[0]\n",
    "classe = classes[0]\n",
    "# print(box) #coordonnées relatives \n",
    "\n",
    "y1, x1, y2, x2 = box #le y avant le x pk pas \n",
    "(x1, y1) = (int(x1 * image.shape[1]), int(y1 * image.shape[0])) #coordonées absolues\n",
    "(x2, y2) = (int(x2 * image.shape[1]), int(y2 * image.shape[0]))\n",
    "\n",
    "image_with_boxes = image.numpy().copy()\n",
    "cv2.rectangle(image_with_boxes, pt1 = (x1, y1), pt2 = (x2, y2), \n",
    "              color = (0, 255, 0) , thickness = 1)\n",
    "\n",
    "plt.imshow(image_with_boxes);"
   ]
  }
 ],
 "metadata": {
  "language_info": {
   "name": "python"
  }
 },
 "nbformat": 4,
 "nbformat_minor": 2
}
