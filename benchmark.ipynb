{
 "cells": [
  {
   "cell_type": "code",
   "execution_count": 37,
   "metadata": {},
   "outputs": [],
   "source": [
    "import tensorflow as tf\n",
    "import cv2\n",
    "import numpy as np\n",
    "import tensorflow_hub as hub\n",
    "import matplotlib.pyplot as plt\n",
    "import os\n",
    "import time\n",
    "import pandas as pd\n",
    "from shapely.geometry import Polygon"
   ]
  },
  {
   "cell_type": "code",
   "execution_count": 38,
   "metadata": {},
   "outputs": [],
   "source": [
    "## Chargement des données de références :\n",
    "os.chdir('c:/Users/alexa/Bureau/Data_challenge/') \n",
    "## Pour colab :\n",
    "'''\n",
    "from google.colab import drive\n",
    "drive.mount('/content/drive')\n",
    "os.chdir('/content/drive/MyDrive/data_challenge_mines/')\n",
    "'''\n",
    "\n",
    "ref = pd.read_csv(\"datasets_train/train_annotation/_annotation.csv\")\n",
    "## Nettoyage des données \n",
    "ref = ref[ np.logical_and(ref['class'] == 1, ref['models'].notna()) ].set_index('im_name')\n"
   ]
  },
  {
   "cell_type": "code",
   "execution_count": 39,
   "metadata": {},
   "outputs": [],
   "source": [
    "# métrique IoU recomandée \n",
    "def local_IoU(\n",
    "    xmin_pred_i,\n",
    "    xmax_pred_i,\n",
    "    ymin_pred_i,\n",
    "    ymax_pred_i,\n",
    "    xmin_true_i,\n",
    "    xmax_true_i,\n",
    "    ymin_true_i,\n",
    "    ymax_true_i,\n",
    "):\n",
    "    \"\"\"This function calculates the IoU for the image i.\n",
    "\n",
    "    Args:\n",
    "        xmin_pred_i: Value of the prediction min x-axis.\n",
    "        xmax_pred_i: Value of the prediction max x-axis.\n",
    "        ymin_pred_i: Value of the prediction min y-axis.\n",
    "        ymax_pred_i: Value of the prediction max y-axis.\n",
    "        xmin_true_i: Value of the true min x-axis.\n",
    "        xmax_true_i: Value of the true max x-axis.\n",
    "        ymin_true_i: Value of the true min y-axis.\n",
    "        ymax_true_i: Value of the true max y-axis.\n",
    "\n",
    "    Returns:\n",
    "        The return value is the intersection over union.\n",
    "\n",
    "    \"\"\"\n",
    "    if (xmin_true_i, xmax_true_i, ymin_true_i, ymax_true_i) == (0, 0, 0, 0):\n",
    "        if (xmin_pred_i, xmax_pred_i, ymin_pred_i, ymax_pred_i) == (\n",
    "            0,\n",
    "            0,\n",
    "            0,\n",
    "            0,\n",
    "        ):\n",
    "            return 1\n",
    "\n",
    "        else:\n",
    "            return 0\n",
    "\n",
    "    else:\n",
    "        box_pred_i = [\n",
    "            [xmin_pred_i, ymin_pred_i],\n",
    "            [xmax_pred_i, ymin_pred_i],\n",
    "            [xmax_pred_i, ymax_pred_i],\n",
    "            [xmin_pred_i, ymax_pred_i],\n",
    "        ]\n",
    "        box_true_i = [\n",
    "            [xmin_true_i, ymin_true_i],\n",
    "            [xmax_true_i, ymin_true_i],\n",
    "            [xmax_true_i, ymax_true_i],\n",
    "            [xmin_true_i, ymax_true_i],\n",
    "        ]\n",
    "        poly_1 = Polygon(box_pred_i)\n",
    "        poly_2 = Polygon(box_true_i)\n",
    "        try:\n",
    "            iou = poly_1.intersection(poly_2).area / poly_1.union(poly_2).area\n",
    "            return iou\n",
    "        except:\n",
    "            return 0\n"
   ]
  },
  {
   "cell_type": "code",
   "execution_count": 40,
   "metadata": {},
   "outputs": [],
   "source": [
    "def test_unit( model , image_name):\n",
    "    image = cv2.imread(image_name)\n",
    "    image = cv2.cvtColor(image, cv2.COLOR_BGR2RGB)\n",
    "    image_tensor = tf.convert_to_tensor(image, dtype = tf.uint8)\n",
    "    image_tensor = tf.expand_dims(image_tensor, axis = 0)\n",
    "    detection = model(image_tensor)\n",
    "    box = (detection['detection_boxes'][0][0])\n",
    "    y1, x1, y2, x2 = box #le y avant le x pk pas \n",
    "    (x1, y1) = (int(x1 * image.shape[1]), int(y1 * image.shape[0])) #coordonées absolues\n",
    "    (x2, y2) = (int(x2 * image.shape[1]), int(y2 * image.shape[0])) \n",
    "    # calcul de la performance :\n",
    "    (X1, Y1, X2, Y2) = ref.loc[image_name][['x_min', 'y_min', 'x_max', 'y_max']]\n",
    "    IoU = local_IoU(x1, x2, y1, y2, X1, X2, Y1, Y2)\n",
    "    return IoU\n",
    "    "
   ]
  },
  {
   "cell_type": "code",
   "execution_count": 5,
   "metadata": {},
   "outputs": [],
   "source": [
    "\n",
    "FasterRCNN = hub.load(\"https://tfhub.dev/tensorflow/faster_rcnn/inception_resnet_v2_640x640/1\")\n",
    "\n",
    "RetinaNet = hub.load(\"https://tfhub.dev/tensorflow/retinanet/resnet152_v1_fpn_640x640/1\")\n",
    "\n",
    "SSD_mobilenet_320 = hub.load(\"https://tfhub.dev/tensorflow/ssd_mobilenet_v2/2\")\n",
    "\n",
    "SSD_mobilenet_640 = hub.load(\"https://tfhub.dev/tensorflow/ssd_mobilenet_v2/fpnlite_640x640/1\")"
   ]
  },
  {
   "cell_type": "code",
   "execution_count": 41,
   "metadata": {},
   "outputs": [],
   "source": [
    "def test(model, image_list):\n",
    "    l = []\n",
    "    t1 = time.time()\n",
    "    for image_name in image_list:\n",
    "        IoU = test_unit(model, image_name)\n",
    "        l.append(IoU)\n",
    "    l = np.array(l)\n",
    "    error = np.sum(l)\n",
    "    t2 = time.time()\n",
    "    return (t2 - t1), error"
   ]
  },
  {
   "cell_type": "code",
   "execution_count": 42,
   "metadata": {},
   "outputs": [],
   "source": [
    "'''## En cas d'éxécution sur Colab :\n",
    "from google.colab import drive\n",
    "drive.mount('/content/drive')\n",
    "image_path = \"/content/drive/MyDrive/data_challenge_mines/datasets_train/train/\" #chemin d'accès\n",
    "os.chdir(image_path)\n",
    "'''\n",
    "\n",
    "## En cas d'éxécution en local :\n",
    "image_path = \"datasets_train/train/\" #chemin d'accès \n",
    "os.chdir(image_path)\n"
   ]
  },
  {
   "cell_type": "code",
   "execution_count": 43,
   "metadata": {},
   "outputs": [],
   "source": [
    "# image_list = np.array( ref.index) pour tester sur tout le dataset (très long, à faire une seule fois)\n",
    "image_list = np.array( ref.index)[:10] # version toy pour tester\n",
    "\n",
    "delta_t1, IoU1 = test(FasterRCNN, image_list)\n",
    "delta_t2, IoU2 = test(RetinaNet, image_list)\n",
    "delta_t3, IoU3 = test(SSD_mobilenet_320, image_list)\n",
    "delta_t4, IoU4 = test(SSD_mobilenet_640, image_list)\n",
    "\n",
    "time_delta = [delta_t1, delta_t2, delta_t3, delta_t4]\n",
    "IoU = [IoU1, IoU2, IoU3, IoU4]\n",
    "name = ['FasterRCNN', 'RetinaNet', 'SSD_mobilenet_320', 'SSD_mobilenet_640']\n",
    "\n",
    "benchmark = pd.DataFrame({'Method' : name , 'IoU' : IoU, 'time_delta' : time_delta})\n",
    "os.chdir('c:/Users/alexa/Bureau/Data_challenge/')\n",
    "# Ou pour colab :\n",
    "#os.chdir('/content/drive/MyDrive/data_challenge_mines/')\n",
    "benchmark.to_csv('benchmarck.csv')\n"
   ]
  }
 ],
 "metadata": {
  "kernelspec": {
   "display_name": "base",
   "language": "python",
   "name": "python3"
  },
  "language_info": {
   "codemirror_mode": {
    "name": "ipython",
    "version": 3
   },
   "file_extension": ".py",
   "mimetype": "text/x-python",
   "name": "python",
   "nbconvert_exporter": "python",
   "pygments_lexer": "ipython3",
   "version": "3.9.12"
  }
 },
 "nbformat": 4,
 "nbformat_minor": 2
}
