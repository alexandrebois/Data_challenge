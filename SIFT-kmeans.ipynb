{
  "cells": [
    {
      "cell_type": "markdown",
      "id": "811c73c7",
      "metadata": {
        "deletable": false,
        "editable": false,
        "id": "811c73c7",
        "run_control": {
          "frozen": true
        }
      },
      "source": [
        "<p style=\"font-size:20px;color:#12ABDB;text-indent:2em\">A. Libraries import</p>"
      ]
    },
    {
      "cell_type": "code",
      "execution_count": 1,
      "id": "39164f32",
      "metadata": {
        "deletable": false,
        "editable": false,
        "id": "39164f32"
      },
      "outputs": [],
      "source": [
        "import matplotlib.patches as patches\n",
        "import matplotlib.pyplot as plt\n",
        "import numpy as np\n",
        "import pandas as pd\n",
        "from PIL import Image\n",
        "from shapely.geometry import Polygon\n",
        "from sklearn.model_selection import train_test_split\n",
        "import os\n",
        "from tensorflow.keras.preprocessing.image import img_to_array, load_img"
      ]
    },
    {
      "cell_type": "code",
      "execution_count": 2,
      "id": "tZr7H4fj9nbM",
      "metadata": {
        "colab": {
          "base_uri": "https://localhost:8080/"
        },
        "id": "tZr7H4fj9nbM",
        "outputId": "d7788143-364b-4161-ea3e-c0841a364317"
      },
      "outputs": [
        {
          "name": "stdout",
          "output_type": "stream",
          "text": [
            "Mounted at /content/gdrive\n"
          ]
        }
      ],
      "source": [
        "from google.colab import drive\n",
        "drive.mount('/content/gdrive')"
      ]
    },
    {
      "cell_type": "code",
      "execution_count": 3,
      "id": "OYSft-At9xyJ",
      "metadata": {
        "id": "OYSft-At9xyJ"
      },
      "outputs": [],
      "source": [
        "# move to the challenge folder\n",
        "os.chdir(\"/content/gdrive/MyDrive/data_challenge_mines\")"
      ]
    },
    {
      "cell_type": "markdown",
      "id": "22d229bc",
      "metadata": {
        "deletable": false,
        "editable": false,
        "id": "22d229bc",
        "run_control": {
          "frozen": true
        }
      },
      "source": [
        "<p style=\"font-size:20px;color:#12ABDB;text-indent:2em\">B. Loading images</p>"
      ]
    },
    {
      "cell_type": "code",
      "execution_count": 5,
      "id": "Tf8ciJHioTWd",
      "metadata": {
        "id": "Tf8ciJHioTWd"
      },
      "outputs": [],
      "source": [
        "import cv2\n",
        "import numpy as np\n",
        "\n",
        "# Charger un ensemble d'images pour un groupe particulier (50 échantillons d'images de voitures)\n",
        "pathimages = \"datasets_train/train/\"\n",
        "images = []\n",
        "\n",
        "path_annotrain = \"datasets_train/train_annotation/_annotation.csv\"\n",
        "train_annotation = pd.read_csv(path_annotrain, index_col='im_name')\n",
        "\n",
        "bbox_train_full = train_annotation.loc[\n",
        "    :, [\"x_min\", \"y_min\", \"x_max\", \"y_max\"]\n",
        "]"
      ]
    },
    {
      "cell_type": "code",
      "execution_count": 6,
      "id": "E9kEiVm0NPS_",
      "metadata": {
        "id": "E9kEiVm0NPS_"
      },
      "outputs": [],
      "source": [
        "os.chdir(\"/content/gdrive/MyDrive/data_challenge_mines\")\n",
        "images = []\n",
        "for name_img in os.listdir(pathimages):\n",
        "  if train_annotation.loc[name_img]['class'] == 1:\n",
        "    images.append((cv2.imread(pathimages+name_img),name_img))"
      ]
    },
    {
      "cell_type": "code",
      "execution_count": 10,
      "id": "d1tox5GBtC56",
      "metadata": {
        "id": "d1tox5GBtC56"
      },
      "outputs": [],
      "source": [
        "def exportcadre(img, name_image):\n",
        "  x1, y1, x2, y2 = bbox_train_full.loc[name_image]\n",
        "  try :\n",
        "    mask = img[int(y1):int(y2), int(x1):int(x2)]\n",
        "  except:\n",
        "    mask = img\n",
        "  return mask"
      ]
    },
    {
      "cell_type": "code",
      "execution_count": 11,
      "id": "ttxXbHCXa29M",
      "metadata": {
        "colab": {
          "base_uri": "https://localhost:8080/"
        },
        "id": "ttxXbHCXa29M",
        "outputId": "672c0876-b5ea-4e39-c714-ddfe7d3ff741"
      },
      "outputs": [
        {
          "data": {
            "text/plain": [
              "2094"
            ]
          },
          "execution_count": 11,
          "metadata": {},
          "output_type": "execute_result"
        }
      ],
      "source": [
        "goodimages = []\n",
        "for image,nameimage in images:\n",
        "  test_image = cv2.cvtColor(image, cv2.COLOR_BGR2GRAY)\n",
        "  test_image = exportcadre(test_image, nameimage)\n",
        "  test_image = cv2.resize(test_image, (640,640))\n",
        "  goodimages.append([test_image, nameimage])\n",
        "len(goodimages)"
      ]
    },
    {
      "cell_type": "code",
      "execution_count": 27,
      "id": "-JToXFOanHhJ",
      "metadata": {
        "id": "-JToXFOanHhJ"
      },
      "outputs": [],
      "source": [
        "def findBestKeypoints(keyp, n=25):\n",
        "  listRep = []\n",
        "  for i,kp in enumerate(keyp):\n",
        "    listRep.append(np.array([i,kp.response]))\n",
        "  res = sorted(listRep, key=lambda x: -x[1])\n",
        "  return np.array(res[0:n])[:,0]\n",
        "\n",
        "\n",
        "def detection(images):\n",
        "  sift = cv2.SIFT_create()\n",
        "  Descriptors = []\n",
        "  numero=0\n",
        "  for image,nameimage in images:\n",
        "    keypoints,descript = sift.detectAndCompute(image, None)\n",
        "    bestkeypoints = findBestKeypoints(keypoints)\n",
        "    descriptor = []\n",
        "    for i in bestkeypoints:\n",
        "      descriptor.extend(descript[int(i)])\n",
        "    Descriptors.append(np.array(descriptor).reshape(1,3200))\n",
        "\n",
        "    numero += 1\n",
        "    if numero % 100 == 0:\n",
        "      print(numero)\n",
        "\n",
        "  all_descriptors = np.concatenate(Descriptors, axis = 0)\n",
        "  return all_descriptors\n",
        "\n",
        "\n",
        "from sklearn.cluster import KMeans\n",
        "\n",
        "def entrainement(images, all_descriptors, num_cluster=100):\n",
        "  kmeans = KMeans(n_clusters=num_cluster)\n",
        "  kmeans.fit(all_descriptors)\n",
        "  return kmeans"
      ]
    },
    {
      "cell_type": "code",
      "execution_count": 28,
      "id": "-A6TTmIhhJaO",
      "metadata": {
        "colab": {
          "base_uri": "https://localhost:8080/"
        },
        "id": "-A6TTmIhhJaO",
        "outputId": "adda875a-3d96-457c-ccd2-2d6060bb3174"
      },
      "outputs": [
        {
          "name": "stdout",
          "output_type": "stream",
          "text": [
            "100\n",
            "200\n",
            "300\n",
            "400\n",
            "500\n",
            "600\n",
            "700\n",
            "800\n",
            "900\n",
            "1000\n",
            "1100\n",
            "1200\n",
            "1300\n",
            "1400\n",
            "1500\n",
            "1600\n",
            "1700\n",
            "1800\n",
            "1900\n",
            "2000\n"
          ]
        },
        {
          "name": "stderr",
          "output_type": "stream",
          "text": [
            "/usr/local/lib/python3.10/dist-packages/sklearn/cluster/_kmeans.py:870: FutureWarning: The default value of `n_init` will change from 10 to 'auto' in 1.4. Set the value of `n_init` explicitly to suppress the warning\n",
            "  warnings.warn(\n"
          ]
        }
      ],
      "source": [
        "all_descriptors = detection(images)\n",
        "kmeans = entrainement(goodimages, all_descriptors)"
      ]
    },
    {
      "cell_type": "code",
      "execution_count": 29,
      "id": "sw5Sty92lnhi",
      "metadata": {
        "colab": {
          "base_uri": "https://localhost:8080/"
        },
        "id": "sw5Sty92lnhi",
        "outputId": "34e5afcd-c74e-41b5-e1de-0896b169a3bf"
      },
      "outputs": [
        {
          "name": "stdout",
          "output_type": "stream",
          "text": [
            "Counter({7: 118, 29: 98, 42: 97, 63: 85, 12: 79, 28: 76, 59: 74, 25: 60, 34: 60, 4: 53, 76: 49, 11: 48, 5: 48, 31: 44, 99: 38, 41: 35, 50: 31, 61: 30, 21: 29, 58: 28, 9: 27, 98: 27, 82: 26, 2: 25, 69: 25, 80: 23, 62: 22, 92: 21, 15: 21, 73: 20, 66: 20, 67: 19, 46: 19, 49: 18, 6: 18, 48: 17, 24: 17, 86: 17, 57: 17, 43: 16, 18: 16, 16: 15, 26: 14, 97: 14, 94: 14, 14: 14, 85: 13, 35: 13, 19: 13, 51: 13, 0: 12, 36: 12, 23: 12, 47: 12, 64: 12, 44: 11, 54: 11, 56: 11, 40: 11, 38: 11, 17: 11, 90: 11, 95: 10, 37: 10, 75: 10, 39: 10, 32: 9, 83: 9, 72: 9, 81: 9, 20: 8, 3: 8, 68: 8, 84: 7, 22: 7, 91: 7, 78: 6, 65: 6, 87: 6, 88: 6, 89: 6, 33: 6, 60: 6, 53: 5, 8: 5, 96: 5, 70: 5, 1: 4, 55: 4, 27: 4, 71: 4, 74: 4, 52: 4, 79: 4, 45: 3, 77: 3, 10: 2, 30: 2, 93: 1, 13: 1})\n"
          ]
        }
      ],
      "source": [
        "from collections import Counter\n",
        "\n",
        "# Compter combien de descripteurs sont dans chaque cluster\n",
        "cluster_counts = Counter(kmeans.labels_)\n",
        "\n",
        "# Afficher le nombre de descripteurs dans chaque cluster\n",
        "print(cluster_counts)"
      ]
    },
    {
      "cell_type": "code",
      "execution_count": null,
      "id": "Yi5x5GHSNiT7",
      "metadata": {
        "colab": {
          "base_uri": "https://localhost:8080/"
        },
        "id": "Yi5x5GHSNiT7",
        "outputId": "31228535-9156-4e83-e679-eee245bacfd4"
      },
      "outputs": [
        {
          "data": {
            "text/plain": [
              "(31, 8524, 1282.0062082139445)"
            ]
          },
          "execution_count": 139,
          "metadata": {},
          "output_type": "execute_result"
        }
      ],
      "source": [
        "lbis = np.array(lbis)\n",
        "lbis.min(), lbis.max(), lbis.mean()"
      ]
    },
    {
      "cell_type": "markdown",
      "id": "548aa09a",
      "metadata": {
        "deletable": false,
        "editable": false,
        "id": "548aa09a",
        "run_control": {
          "frozen": true
        }
      },
      "source": [
        "<p style=\"font-size:20px;color:#12ABDB;text-indent:2em\">E. Metric to be recommended to use</p>"
      ]
    },
    {
      "cell_type": "code",
      "execution_count": null,
      "id": "daa2a433",
      "metadata": {
        "deletable": false,
        "editable": false,
        "id": "daa2a433"
      },
      "outputs": [],
      "source": [
        "def local_MAPE(e_true_i, e_pred_i):\n",
        "    \"\"\"\n",
        "    Calculate the Mean Absolute Percentage Error (MAPE) for the image i.\n",
        "\n",
        "    Args:\n",
        "    e_true_i (float): The true values representing the true gas emission.\n",
        "    e_pred_i (float): The predicted values representing the predicted gas emission.\n",
        "\n",
        "    Returns:\n",
        "    float: MAPE score between 0 and 1.\n",
        "    \"\"\"\n",
        "    if e_true_i != 0:\n",
        "        return abs(e_true_i - e_pred_i) / e_true_i\n",
        "    else:\n",
        "        if e_pred_i == 0:\n",
        "            return 1\n",
        "        else:\n",
        "            return 0\n"
      ]
    }
  ],
  "metadata": {
    "accelerator": "GPU",
    "celltoolbar": "Aucun(e)",
    "colab": {
      "gpuType": "T4",
      "provenance": []
    },
    "kernelspec": {
      "display_name": "Python 3",
      "name": "python3"
    },
    "language_info": {
      "codemirror_mode": {
        "name": "ipython",
        "version": 3
      },
      "file_extension": ".py",
      "mimetype": "text/x-python",
      "name": "python",
      "nbconvert_exporter": "python",
      "pygments_lexer": "ipython3",
      "version": "3.11.4"
    }
  },
  "nbformat": 4,
  "nbformat_minor": 5
}
